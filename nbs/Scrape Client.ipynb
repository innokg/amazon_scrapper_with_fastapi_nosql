{
 "cells": [
  {
   "cell_type": "code",
   "execution_count": 1,
   "id": "7966747d",
   "metadata": {},
   "outputs": [
    {
     "name": "stdout",
     "output_type": "stream",
     "text": [
      "/home/hello/PycharmProjects/nosql_webscrapper_fastapi/nbs\r\n"
     ]
    }
   ],
   "source": [
    "!pwd"
   ]
  },
  {
   "cell_type": "code",
   "execution_count": 2,
   "id": "fd1e0a80",
   "metadata": {},
   "outputs": [
    {
     "name": "stdout",
     "output_type": "stream",
     "text": [
      "/home/hello/PycharmProjects/nosql_webscrapper_fastapi\n"
     ]
    }
   ],
   "source": [
    "cd ..\n"
   ]
  },
  {
   "cell_type": "code",
   "execution_count": 3,
   "id": "2c76a887",
   "metadata": {},
   "outputs": [],
   "source": [
    "import requests\n",
    "from slugify import slugify\n",
    "from requests_html import HTML\n",
    "from app import scrapper\n",
    "import pprint\n",
    "import re\n"
   ]
  },
  {
   "cell_type": "code",
   "execution_count": 4,
   "id": "3264e444",
   "metadata": {},
   "outputs": [],
   "source": [
    "url = \"https://www.amazon.com/Vitamix-Explorian-Professional-Grade-Low-Profile-Container/dp/B07CX95VRT/ref=sr_1_3?keywords=Vitamix&qid=1669195517&sr=8-3\"\n"
   ]
  },
  {
   "cell_type": "code",
   "execution_count": 5,
   "id": "c716ab05",
   "metadata": {},
   "outputs": [
    {
     "data": {
      "text/plain": [
       "{'price_str': '$289.95',\n",
       " 'title_str': 'Vitamix Explorian Blender, Professional-Grade, 64 oz. Low-Profile Container, Black - 65542 (Renewed Premium)',\n",
       " 'title': 'Vitamix Explorian Blender, Professional-Grade, 64 oz. Low-Profile Container, Black - 65542 (Renewed Premium)',\n",
       " 'total': '$420.58',\n",
       " 'total_raw': '$420.58',\n",
       " 'new_price': None,\n",
       " 'new_price_raw': '$430.00$430.00 \\n\\n    .reinventPrice_legalMessage_icon {\\n        width: 12px;\\n        fill: #969696;\\n        vertical-align: middle;\\n        padding-bottom: 2px;\\n    }\\n\\n    .reinventPrice_legalMessage_icon:hover {\\n        fill: #555555;\\n    }\\n\\n\\n    P.when(\\'A\\', \\'a-popover\\').execute(\\'a-popover-count\\', function (A) {\\n        A.declarative(\\'a-popover\\', \\'mouseenter\\', function() {\\n            ue.count(\"tooltip.popover.opened\", 1);\\n        });\\n    });',\n",
       " 'price': None,\n",
       " 'price_raw': '$289.95$289.95 \\n\\n\\n\\n\\n\\n\\n\\n\\n\\n\\n\\n  P.when(\"A\", \"jQuery\").execute(function(A, $) {\\n    $(\"#selectQuantity [name=\\'quantity\\'], #mobileQuantityDropDown\").live(\"change\", function (event) {\\n      if (event.updatePromiseBadgeOnQuantityChange) {\\n          return;\\n      }\\n\\n      event.updatePromiseBadgeOnQuantityChange = 1;\\n\\n       \\n          // \"#buybox\" is included in this list because if there is no accordion row, then it is a single-offer layout\\n          // possible id\\'s may include \"usedAccordionRow\", \"newAccordionRow_1\", \"newAccordionRow_2\"\\n          var accordionRow = $(this).closest(\\'[id$=\"AccordionRow\"], #buybox, [id^=\"newAccordionRow\"]\\');\\n          \\n\\n      var quantity = $(this).val();\\n      // This asin and merchantId will support use case in US marketplace.\\n      // DDM will be required here to support the feature in IN marketplace\\n      var asin = accordionRow.find(\"#deliveryBlockSelectAsin\").val();\\n      var merchantId = accordionRow.find(\"#deliveryBlockSelectMerchant\").val();\\n\\n      if (!asin) {\\n        asin = accordionRow.find(\"#ftSelectAsin\").val();\\n      }\\n      if (!merchantId) {\\n        merchantId = accordionRow.find(\"#ftSelectMerchant\").val();\\n      }\\n\\n      if (!asin || !quantity) {\\n        return;\\n      }\\n\\n      var params = [];\\n      params.push(\"asin=\" + asin);\\n      params.push(\"quantity=\" + quantity);\\n      params.push(\"exclusiveMerchantId=\" + merchantId);\\n      params.push(\"merchantId=\" + merchantId);\\n      params.push(\"clientId=retailwebsite\");\\n      params.push(\"deviceType=web\");\\n      params.push(\"showFeatures=priceBlockMs3Mir\");\\n      params.push(\"ie=UTF8\");\\n      params.push(\"experienceId=priceBadgingQuantityRefreshAjaxExperience\");\\n\\n      $.ajax({\\n        type: \"GET\",\\n        url: \"/gp/product/ajax?\",\\n        contentType: \\'application/x-www-form-urlencoded;charset=utf-8\\',\\n        data: params.join(\\'&\\'),\\n        accordionRow: accordionRow,\\n        dataType: \"html\",\\n        success: function (objResponse) {\\n          if (objResponse != null && objResponse != \"\") {\\n            accordionRow.find(\"#priceBadging_feature_div\").replaceWith(objResponse);\\n\\n             \\n                // If it\\'s a single buying option layout or the new buy box quantity changed, update data outside the buy box\\n                if ($(\"#buyBoxAccordion, #buybox\").children().length === 1 || accordionRow.attr(\"id\").match(/^newAccordionRow/)) {\\n                \\n              $(\"#price #priceblock_ourprice_row #ourprice_shippingmessage #priceBadging_feature_div\").replaceWith(objResponse);\\n              $(\"#newOfferShippingMessage_feature_div #ourPrice_availability #priceBadging_feature_div\").replaceWith(objResponse);\\n              $(\"#price #priceblock_saleprice_row #saleprice_shippingmessage #priceBadging_feature_div\").replaceWith(objResponse);\\n              $(\"#price #priceblock_dealprice_row #dealprice_shippingmessage #priceBadging_feature_div\").replaceWith(objResponse);\\n            }\\n          }\\n        }\\n      });\\n\\n      return;\\n    });\\n  });',\n",
       " 'you_save': None,\n",
       " 'you_save_raw': '$140.05$140.05   (32%)',\n",
       " 'brand': 'Vitamix',\n",
       " 'color': 'Black',\n",
       " 'special_feature': 'Manual',\n",
       " 'capacity': '64 Fluid Ounces',\n",
       " 'product_dimensions': '8\"D x 11\"W x 18\"H',\n",
       " 'material': 'Tritan',\n",
       " 'included_components': \"Container^ Lid^ Tamper^ Motor Base^ Owner's Manual^ Introduction Booklet\",\n",
       " 'style': 'Blender',\n",
       " 'wattage': '1440 watts',\n",
       " 'number_of_speeds': '10',\n",
       " 'voltage': '120',\n",
       " 'item_weight': '10.5 Pounds',\n",
       " 'material_type_free': 'BPA Free',\n",
       " 'is_dishwasher_safe': 'Yes',\n",
       " 'blade_material': 'Stainless Steel',\n",
       " 'warranty_type': '90 days limited warranty',\n",
       " 'manufacturer': 'Vitamix',\n",
       " 'asin': 'B07CX95VRT',\n",
       " 'country_of_origin': 'USA',\n",
       " 'item_model_number': '65542',\n",
       " 'customer_reviews': '/* \\n    * Fix for UDP-1061. Average customer reviews has a small extra line on hover \\n    * https://omni-grok.amazon.com/xref/src/appgroup/websiteTemplates/retail/SoftlinesDetailPageAssets/udp-intl-lock/src/legacy.css?indexName=WebsiteTemplates#40\\n    */\\n    .noUnderline a:hover { \\n        text-decoration: none; \\n    }\\n\\n\\n \\n  4.7 out of 5 stars    \\n    8,416 ratings   \\n                    P.when(\\'A\\', \\'ready\\').execute(function(A) {\\n                        A.declarative(\\'acrLink-click-metrics\\', \\'click\\', { \"allowLinkDefault\" : true }, function(event){\\n                            if(window.ue) {\\n                                ue.count(\"acrLinkClickCount\", (ue.count(\"acrLinkClickCount\") || 0) + 1);\\n                            }\\n                        });\\n                    });\\n                \\n\\n            P.when(\\'A\\', \\'cf\\').execute(function(A) {\\n                A.declarative(\\'acrStarsLink-click-metrics\\', \\'click\\', { \"allowLinkDefault\" : true },  function(event){\\n                    if(window.ue) {\\n                        ue.count(\"acrStarsLinkWithPopoverClickCount\", (ue.count(\"acrStarsLinkWithPopoverClickCount\") || 0) + 1);\\n                    }\\n                });\\n            });\\n        \\n\\n 4.7 out of 5 stars',\n",
       " 'best_sellers_rank': '#2,942 in Kitchen & Dining (See Top 100 in Kitchen & Dining)  #17 in Countertop Blenders',\n",
       " 'is_discontinued_by_manufacturer': 'No',\n",
       " 'date_first_available': 'May 7, 2018'}"
      ]
     },
     "execution_count": 5,
     "metadata": {},
     "output_type": "execute_result"
    }
   ],
   "source": [
    "s = scrapper.Scraper(url=url, endless_scroll=True)\n",
    "dataset = s.scrape()\n",
    "dataset\n",
    "\n"
   ]
  },
  {
   "cell_type": "code",
   "execution_count": null,
   "id": "bcc4499c",
   "metadata": {},
   "outputs": [],
   "source": []
  },
  {
   "cell_type": "code",
   "execution_count": null,
   "id": "0119c7fd",
   "metadata": {},
   "outputs": [],
   "source": []
  }
 ],
 "metadata": {
  "kernelspec": {
   "display_name": "Python 3 (ipykernel)",
   "language": "python",
   "name": "python3"
  },
  "language_info": {
   "codemirror_mode": {
    "name": "ipython",
    "version": 3
   },
   "file_extension": ".py",
   "mimetype": "text/x-python",
   "name": "python",
   "nbconvert_exporter": "python",
   "pygments_lexer": "ipython3",
   "version": "3.9.15"
  }
 },
 "nbformat": 4,
 "nbformat_minor": 5
}
