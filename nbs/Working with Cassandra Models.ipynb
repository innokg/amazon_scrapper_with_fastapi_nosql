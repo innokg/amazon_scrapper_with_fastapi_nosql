{
 "cells": [
  {
   "cell_type": "code",
   "execution_count": 1,
   "id": "a0c34d29",
   "metadata": {},
   "outputs": [
    {
     "data": {
      "text/plain": [
       "'/home/hello/PycharmProjects/nosql_webscrapper_fastapi/nbs'"
      ]
     },
     "execution_count": 1,
     "metadata": {},
     "output_type": "execute_result"
    }
   ],
   "source": [
    "pwd"
   ]
  },
  {
   "cell_type": "code",
   "execution_count": 2,
   "id": "7a93d803",
   "metadata": {},
   "outputs": [
    {
     "name": "stdout",
     "output_type": "stream",
     "text": [
      "/home/hello/PycharmProjects/nosql_webscrapper_fastapi\n"
     ]
    }
   ],
   "source": [
    "cd .."
   ]
  },
  {
   "cell_type": "code",
   "execution_count": 3,
   "id": "94cfd5ad",
   "metadata": {},
   "outputs": [],
   "source": [
    "from app import crud, models, db, main, crud"
   ]
  },
  {
   "cell_type": "code",
   "execution_count": 4,
   "id": "78888edd",
   "metadata": {},
   "outputs": [],
   "source": [
    "data = models.data"
   ]
  },
  {
   "cell_type": "code",
   "execution_count": 6,
   "id": "1027db41",
   "metadata": {},
   "outputs": [],
   "source": [
    "session = db.get_session()\n",
    "main.on_startup()"
   ]
  },
  {
   "cell_type": "code",
   "execution_count": null,
   "id": "83bb4375",
   "metadata": {},
   "outputs": [],
   "source": [
    "data = models.data\n",
    "data"
   ]
  },
  {
   "cell_type": "code",
   "execution_count": null,
   "id": "7bf44d1b",
   "metadata": {},
   "outputs": [],
   "source": []
  }
 ],
 "metadata": {
  "kernelspec": {
   "display_name": "Python 3 (ipykernel)",
   "language": "python",
   "name": "python3"
  },
  "language_info": {
   "codemirror_mode": {
    "name": "ipython",
    "version": 3
   },
   "file_extension": ".py",
   "mimetype": "text/x-python",
   "name": "python",
   "nbconvert_exporter": "python",
   "pygments_lexer": "ipython3",
   "version": "3.9.15"
  }
 },
 "nbformat": 4,
 "nbformat_minor": 5
}
