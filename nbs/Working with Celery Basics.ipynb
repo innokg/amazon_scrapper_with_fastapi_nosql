{
 "cells": [
  {
   "cell_type": "code",
   "execution_count": 9,
   "id": "a0c34d29",
   "metadata": {},
   "outputs": [
    {
     "data": {
      "text/plain": [
       "'/home/hello/PycharmProjects'"
      ]
     },
     "execution_count": 9,
     "metadata": {},
     "output_type": "execute_result"
    }
   ],
   "source": [
    "pwd"
   ]
  },
  {
   "cell_type": "code",
   "execution_count": 10,
   "id": "7a93d803",
   "metadata": {},
   "outputs": [
    {
     "name": "stdout",
     "output_type": "stream",
     "text": [
      "/home/hello\n"
     ]
    }
   ],
   "source": [
    "cd .."
   ]
  },
  {
   "cell_type": "code",
   "execution_count": 11,
   "id": "94cfd5ad",
   "metadata": {},
   "outputs": [],
   "source": [
    "from app.worker import random_task"
   ]
  },
  {
   "cell_type": "code",
   "execution_count": null,
   "id": "2428c76e",
   "metadata": {},
   "outputs": [],
   "source": [
    "random_task('Adeptus Astartes')\n"
   ]
  },
  {
   "cell_type": "code",
   "execution_count": null,
   "id": "36562e09",
   "metadata": {},
   "outputs": [],
   "source": [
    "random_task.delay('Justin')"
   ]
  },
  {
   "cell_type": "code",
   "execution_count": 12,
   "id": "7d2ad843",
   "metadata": {},
   "outputs": [],
   "source": [
    "for _ in range(10):\n",
    "    random_task.delay('Ulanbek')"
   ]
  },
  {
   "cell_type": "code",
   "execution_count": null,
   "id": "6f463a86",
   "metadata": {},
   "outputs": [],
   "source": []
  }
 ],
 "metadata": {
  "kernelspec": {
   "display_name": "Python 3 (ipykernel)",
   "language": "python",
   "name": "python3"
  },
  "language_info": {
   "codemirror_mode": {
    "name": "ipython",
    "version": 3
   },
   "file_extension": ".py",
   "mimetype": "text/x-python",
   "name": "python",
   "nbconvert_exporter": "python",
   "pygments_lexer": "ipython3",
   "version": "3.9.15"
  }
 },
 "nbformat": 4,
 "nbformat_minor": 5
}
