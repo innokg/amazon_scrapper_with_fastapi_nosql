{
 "cells": [
  {
   "cell_type": "code",
   "execution_count": null,
   "id": "7966747d",
   "metadata": {},
   "outputs": [],
   "source": [
    "!pwd"
   ]
  },
  {
   "cell_type": "code",
   "execution_count": null,
   "id": "fd1e0a80",
   "metadata": {},
   "outputs": [],
   "source": [
    "cd ..\n"
   ]
  },
  {
   "cell_type": "code",
   "execution_count": null,
   "id": "2c76a887",
   "metadata": {},
   "outputs": [],
   "source": [
    "import requests\n",
    "from slugify import slugify\n",
    "from requests_html import HTML\n",
    "from app import scrapper\n",
    "import pprint\n",
    "import re\n"
   ]
  },
  {
   "cell_type": "code",
   "execution_count": null,
   "id": "3264e444",
   "metadata": {},
   "outputs": [],
   "source": [
    "# url = \"https://www.amazon.com/Vitamix-Explorian-Professional-Grade-Low-Profile-Container/dp/B07CX95VRT/ref=sr_1_3?keywords=Vitamix&qid=1669195517&sr=8-3\"\n",
    "asin = 'B07CX95VRT'\n",
    "url = f\"https://www.amazon.com/dp/{asin}\"\n",
    "url"
   ]
  },
  {
   "cell_type": "code",
   "execution_count": null,
   "id": "c716ab05",
   "metadata": {},
   "outputs": [],
   "source": [
    "s = scrapper.Scraper(asin=asin, endless_scroll=True)\n",
    "s.url\n",
    "dataset = s.scrape()\n",
    "dataset\n",
    "\n"
   ]
  },
  {
   "cell_type": "code",
   "execution_count": null,
   "id": "bcc4499c",
   "metadata": {},
   "outputs": [],
   "source": []
  },
  {
   "cell_type": "code",
   "execution_count": null,
   "id": "0119c7fd",
   "metadata": {},
   "outputs": [],
   "source": []
  }
 ],
 "metadata": {
  "kernelspec": {
   "display_name": "Python 3 (ipykernel)",
   "language": "python",
   "name": "python3"
  },
  "language_info": {
   "codemirror_mode": {
    "name": "ipython",
    "version": 3
   },
   "file_extension": ".py",
   "mimetype": "text/x-python",
   "name": "python",
   "nbconvert_exporter": "python",
   "pygments_lexer": "ipython3",
   "version": "3.9.15"
  }
 },
 "nbformat": 4,
 "nbformat_minor": 5
}
