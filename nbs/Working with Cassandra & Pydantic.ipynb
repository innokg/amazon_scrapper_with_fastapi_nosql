{
 "cells": [
  {
   "cell_type": "code",
   "execution_count": 1,
   "id": "a0c34d29",
   "metadata": {},
   "outputs": [
    {
     "data": {
      "text/plain": [
       "'/home/hello/PycharmProjects/nosql_webscrapper_fastapi/nbs'"
      ]
     },
     "execution_count": 1,
     "metadata": {},
     "output_type": "execute_result"
    }
   ],
   "source": [
    "pwd"
   ]
  },
  {
   "cell_type": "code",
   "execution_count": 2,
   "id": "7a93d803",
   "metadata": {},
   "outputs": [
    {
     "name": "stdout",
     "output_type": "stream",
     "text": [
      "/home/hello/PycharmProjects/nosql_webscrapper_fastapi\n"
     ]
    }
   ],
   "source": [
    "cd .."
   ]
  },
  {
   "cell_type": "code",
   "execution_count": 13,
   "id": "94cfd5ad",
   "metadata": {},
   "outputs": [],
   "source": [
    "import uuid\n",
    "from app import crud, models, db, schema"
   ]
  },
  {
   "cell_type": "code",
   "execution_count": 4,
   "id": "78888edd",
   "metadata": {},
   "outputs": [],
   "source": [
    "data = models.data"
   ]
  },
  {
   "cell_type": "code",
   "execution_count": 5,
   "id": "1027db41",
   "metadata": {},
   "outputs": [],
   "source": [
    "from pydantic import BaseModel"
   ]
  },
  {
   "cell_type": "code",
   "execution_count": 6,
   "id": "998253a5",
   "metadata": {},
   "outputs": [],
   "source": [
    "class ProductBaseModel(BaseModel):\n",
    "    asin: str\n",
    "    title: str\n",
    "    \n",
    "\n",
    "        "
   ]
  },
  {
   "cell_type": "code",
   "execution_count": 7,
   "id": "a833b417",
   "metadata": {},
   "outputs": [],
   "source": [
    "product = ProductBaseModel(**data)"
   ]
  },
  {
   "cell_type": "code",
   "execution_count": 8,
   "id": "e3cdada6",
   "metadata": {},
   "outputs": [
    {
     "data": {
      "text/plain": [
       "{'asin': 'TESTING123D', 'title': 'Mark 1'}"
      ]
     },
     "execution_count": 8,
     "metadata": {},
     "output_type": "execute_result"
    }
   ],
   "source": [
    "product.dict()"
   ]
  },
  {
   "cell_type": "code",
   "execution_count": 9,
   "id": "681d21cb",
   "metadata": {},
   "outputs": [],
   "source": [
    "data = {'asin': 'TESTING123D231', 'title': 'Mark 123123', 'abc123': 'nothing'}"
   ]
  },
  {
   "cell_type": "code",
   "execution_count": 10,
   "id": "f0d17330",
   "metadata": {},
   "outputs": [],
   "source": [
    "product = ProductBaseModel(**data)"
   ]
  },
  {
   "cell_type": "code",
   "execution_count": 11,
   "id": "e0b434a7",
   "metadata": {},
   "outputs": [
    {
     "data": {
      "text/plain": [
       "(Product(asin='TESTING123D231', title='Mark 123123', price_str='-100'),\n",
       " ProductScrapeEvent(uuid=UUID('da1b2424-696e-11ed-872f-a99ab013957e'), asin='TESTING123D231', title='Mark 123123', price_str='-100'))"
      ]
     },
     "execution_count": 11,
     "metadata": {},
     "output_type": "execute_result"
    }
   ],
   "source": [
    "crud.add_scrape_event(product.dict(), fresh=True)"
   ]
  },
  {
   "cell_type": "code",
   "execution_count": 12,
   "id": "8869c084",
   "metadata": {},
   "outputs": [
    {
     "name": "stdout",
     "output_type": "stream",
     "text": [
      "[\n",
      "  {\n",
      "    \"loc\": [\n",
      "      \"uuid\"\n",
      "    ],\n",
      "    \"msg\": \"field required\",\n",
      "    \"type\": \"value_error.missing\"\n",
      "  }\n",
      "]\n"
     ]
    }
   ],
   "source": [
    "from pydantic import ValidationError\n",
    "data['uuid'] = uuid.uuid1()\n",
    "try:\n",
    "    schema.ProductScrapeEventSchema(**data)\n",
    "except ValidationError as e:\n",
    "    print(e.json())"
   ]
  },
  {
   "cell_type": "code",
   "execution_count": null,
   "id": "d1e921b9",
   "metadata": {},
   "outputs": [],
   "source": []
  }
 ],
 "metadata": {
  "kernelspec": {
   "display_name": "Python 3 (ipykernel)",
   "language": "python",
   "name": "python3"
  },
  "language_info": {
   "codemirror_mode": {
    "name": "ipython",
    "version": 3
   },
   "file_extension": ".py",
   "mimetype": "text/x-python",
   "name": "python",
   "nbconvert_exporter": "python",
   "pygments_lexer": "ipython3",
   "version": "3.9.15"
  }
 },
 "nbformat": 4,
 "nbformat_minor": 5
}
