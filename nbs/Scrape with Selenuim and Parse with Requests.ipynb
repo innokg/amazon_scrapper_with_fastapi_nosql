{
 "cells": [
  {
   "cell_type": "code",
   "execution_count": 1,
   "id": "7966747d",
   "metadata": {},
   "outputs": [
    {
     "name": "stdout",
     "output_type": "stream",
     "text": [
      "/home/hello/PycharmProjects/nosql_webscrapper_fastapi/nbs\r\n"
     ]
    }
   ],
   "source": [
    "!pwd"
   ]
  },
  {
   "cell_type": "code",
   "execution_count": 2,
   "id": "fd1e0a80",
   "metadata": {},
   "outputs": [
    {
     "name": "stdout",
     "output_type": "stream",
     "text": [
      "/home/hello/PycharmProjects/nosql_webscrapper_fastapi\n"
     ]
    }
   ],
   "source": [
    "cd ..\n"
   ]
  },
  {
   "cell_type": "code",
   "execution_count": 3,
   "id": "2c76a887",
   "metadata": {},
   "outputs": [],
   "source": [
    "import requests\n",
    "from slugify import slugify\n",
    "from requests_html import HTML\n",
    "from app import scrapper\n",
    "import pprint\n",
    "import re\n"
   ]
  },
  {
   "cell_type": "code",
   "execution_count": 4,
   "id": "3264e444",
   "metadata": {},
   "outputs": [],
   "source": [
    "url = \"https://www.amazon.com/Vitamix-Explorian-Professional-Grade-Low-Profile-Container/dp/B07CX95VRT/ref=sr_1_3?keywords=Vitamix&qid=1669195517&sr=8-3\"\n"
   ]
  },
  {
   "cell_type": "code",
   "execution_count": 5,
   "id": "c716ab05",
   "metadata": {},
   "outputs": [],
   "source": [
    "scr = scrapper.Scraper(url=url, endless_scroll=True)\n",
    "html_str = scr.get()\n",
    "html_obj = HTML(html=html_str)\n",
    "def extract_element_text(html_obj, element_id):\n",
    "    el = html_obj.find(element_id, first=True)\n",
    "    if not el:\n",
    "        return \"\"\n",
    "    return el.text"
   ]
  },
  {
   "cell_type": "code",
   "execution_count": 6,
   "id": "1d3f4f26",
   "metadata": {},
   "outputs": [
    {
     "data": {
      "text/plain": [
       "'$289.95'"
      ]
     },
     "execution_count": 6,
     "metadata": {},
     "output_type": "execute_result"
    }
   ],
   "source": [
    "price = extract_element_text(html_obj, '#corePrice_desktop > div > table > tbody > tr:nth-child(2) > td.a-span12 > span.a-price.a-text-price.a-size-medium.apexPriceToPay > span.a-offscreen')\n",
    "price"
   ]
  },
  {
   "cell_type": "code",
   "execution_count": 7,
   "id": "278e10ca",
   "metadata": {},
   "outputs": [],
   "source": [
    "title = extract_element_text(html_obj, \"#productTitle\")\n",
    "def extract_tables(html_obj):\n",
    "    return html_obj.find(\"table\")\n",
    "\n"
   ]
  },
  {
   "cell_type": "code",
   "execution_count": 8,
   "id": "2339c734",
   "metadata": {},
   "outputs": [
    {
     "data": {
      "text/plain": [
       "[<Element 'table' class=('a-lineitem',)>,\n",
       " <Element 'table' class=('a-lineitem', 'a-align-top')>,\n",
       " <Element 'table' class=('a-lineitem',)>,\n",
       " <Element 'table' class=('a-normal', 'a-spacing-micro')>,\n",
       " <Element 'table' id='HLCXComparisonTable' class=('a-bordered', 'a-horizontal-stripes', 'a-spacing-none', 'a-size-base', 'comparison_table')>,\n",
       " <Element 'table' id='productDetails_detailBullets_sections1' class=('a-keyvalue', 'prodDetTable') role='presentation'>,\n",
       " <Element 'table' id='productDetails_feedback_sections' class=('a-keyvalue', 'prodDetTable') role='presentation'>,\n",
       " <Element 'table' id='histogramTable' class=('a-normal', 'a-spacing-none') role='presentation'>,\n",
       " <Element 'table' id='histogramTable' class=('a-normal', 'a-align-center', 'a-spacing-base')>,\n",
       " <Element 'table' class=('rhf-loading-middle',)>,\n",
       " <Element 'table' class=('navFooterMoreOnAmazon',) cellspacing='0'>]"
      ]
     },
     "execution_count": 8,
     "metadata": {},
     "output_type": "execute_result"
    }
   ],
   "source": [
    "tables = extract_tables(html_obj)\n",
    "tables"
   ]
  },
  {
   "cell_type": "code",
   "execution_count": 9,
   "id": "a047d79f",
   "metadata": {},
   "outputs": [],
   "source": [
    "def extract_price_from_string(value: str, regex=r\"[\\$]{1}[\\d,]+\\.?\\d{0,2}\"):\n",
    "    x = re.findall(regex, value)\n",
    "    val = None\n",
    "    if len(x) == 1:\n",
    "        val = x[0]\n",
    "    return val\n",
    "    "
   ]
  },
  {
   "cell_type": "code",
   "execution_count": 10,
   "id": "c0711a41",
   "metadata": {},
   "outputs": [],
   "source": [
    "def extract_dataset(tables):\n",
    "    dataset = {}\n",
    "    for table in tables:\n",
    "        for tbody in table.element.getchildren():\n",
    "            for tr in tbody.getchildren():\n",
    "                row = []\n",
    "                for col in tr.getchildren():\n",
    "                    content = \"\"\n",
    "                    try:\n",
    "                        content = col.text_content()\n",
    "                    except:\n",
    "                        pass\n",
    "                    if content != \"\":\n",
    "                        _content = content.strip()\n",
    "                        row.append(_content)\n",
    "                if len(row) != 2:\n",
    "                    continue\n",
    "                key = row[0]\n",
    "                value = row[1]\n",
    "\n",
    "                data = {}\n",
    "                key = slugify(key)\n",
    "                if key in dataset:\n",
    "                    continue\n",
    "                else:\n",
    "                    if \"$\" in value:\n",
    "                        new_key = key\n",
    "                        old_key = f'{key}_raw'\n",
    "                        new_value = extract_price_from_string(value)\n",
    "                        old_value = value\n",
    "                        dataset[new_key] = new_value\n",
    "                        dataset[old_key] = old_value\n",
    "                    else:\n",
    "                        dataset[key] = value\n",
    "    return dataset\n"
   ]
  },
  {
   "cell_type": "code",
   "execution_count": 11,
   "id": "5c195aa6",
   "metadata": {},
   "outputs": [
    {
     "name": "stdout",
     "output_type": "stream",
     "text": [
      "{'asin': 'B07CX95VRT',\n",
      " 'best-sellers-rank': '#2,942 in Kitchen & Dining (See Top 100 in Kitchen & '\n",
      "                      'Dining)  #17 in Countertop Blenders',\n",
      " 'blade-material': 'Stainless Steel',\n",
      " 'brand': 'Vitamix',\n",
      " 'capacity': '64 Fluid Ounces',\n",
      " 'color': 'Black',\n",
      " 'country-of-origin': 'USA',\n",
      " 'customer-reviews': '/* \\n'\n",
      "                     '    * Fix for UDP-1061. Average customer reviews has a '\n",
      "                     'small extra line on hover \\n'\n",
      "                     '    * '\n",
      "                     'https://omni-grok.amazon.com/xref/src/appgroup/websiteTemplates/retail/SoftlinesDetailPageAssets/udp-intl-lock/src/legacy.css?indexName=WebsiteTemplates#40\\n'\n",
      "                     '    */\\n'\n",
      "                     '    .noUnderline a:hover { \\n'\n",
      "                     '        text-decoration: none; \\n'\n",
      "                     '    }\\n'\n",
      "                     '\\n'\n",
      "                     '\\n'\n",
      "                     ' \\n'\n",
      "                     '  4.7 out of 5 stars    \\n'\n",
      "                     '    8,416 ratings   \\n'\n",
      "                     \"                    P.when('A', \"\n",
      "                     \"'ready').execute(function(A) {\\n\"\n",
      "                     '                        '\n",
      "                     \"A.declarative('acrLink-click-metrics', 'click', { \"\n",
      "                     '\"allowLinkDefault\" : true }, function(event){\\n'\n",
      "                     '                            if(window.ue) {\\n'\n",
      "                     '                                '\n",
      "                     'ue.count(\"acrLinkClickCount\", '\n",
      "                     '(ue.count(\"acrLinkClickCount\") || 0) + 1);\\n'\n",
      "                     '                            }\\n'\n",
      "                     '                        });\\n'\n",
      "                     '                    });\\n'\n",
      "                     '                \\n'\n",
      "                     '\\n'\n",
      "                     \"            P.when('A', 'cf').execute(function(A) {\\n\"\n",
      "                     '                '\n",
      "                     \"A.declarative('acrStarsLink-click-metrics', 'click', { \"\n",
      "                     '\"allowLinkDefault\" : true },  function(event){\\n'\n",
      "                     '                    if(window.ue) {\\n'\n",
      "                     '                        '\n",
      "                     'ue.count(\"acrStarsLinkWithPopoverClickCount\", '\n",
      "                     '(ue.count(\"acrStarsLinkWithPopoverClickCount\") || 0) + '\n",
      "                     '1);\\n'\n",
      "                     '                    }\\n'\n",
      "                     '                });\\n'\n",
      "                     '            });\\n'\n",
      "                     '        \\n'\n",
      "                     '\\n'\n",
      "                     ' 4.7 out of 5 stars',\n",
      " 'date-first-available': 'May 7, 2018',\n",
      " 'included-components': \"Container^ Lid^ Tamper^ Motor Base^ Owner's Manual^ \"\n",
      "                        'Introduction Booklet',\n",
      " 'is-discontinued-by-manufacturer': 'No',\n",
      " 'is-dishwasher-safe': 'Yes',\n",
      " 'item-model-number': '65542',\n",
      " 'item-weight': '10.5 Pounds',\n",
      " 'manufacturer': 'Vitamix',\n",
      " 'material': 'Tritan',\n",
      " 'material-type-free': 'BPA Free',\n",
      " 'new-price': None,\n",
      " 'new-price_raw': '$430.00$430.00 \\n'\n",
      "                  '\\n'\n",
      "                  '    .reinventPrice_legalMessage_icon {\\n'\n",
      "                  '        width: 12px;\\n'\n",
      "                  '        fill: #969696;\\n'\n",
      "                  '        vertical-align: middle;\\n'\n",
      "                  '        padding-bottom: 2px;\\n'\n",
      "                  '    }\\n'\n",
      "                  '\\n'\n",
      "                  '    .reinventPrice_legalMessage_icon:hover {\\n'\n",
      "                  '        fill: #555555;\\n'\n",
      "                  '    }\\n'\n",
      "                  '\\n'\n",
      "                  '\\n'\n",
      "                  \"    P.when('A', 'a-popover').execute('a-popover-count', \"\n",
      "                  'function (A) {\\n'\n",
      "                  \"        A.declarative('a-popover', 'mouseenter', function() \"\n",
      "                  '{\\n'\n",
      "                  '            ue.count(\"tooltip.popover.opened\", 1);\\n'\n",
      "                  '        });\\n'\n",
      "                  '    });',\n",
      " 'number-of-speeds': '10',\n",
      " 'price': None,\n",
      " 'price_raw': '$289.95$289.95 \\n'\n",
      "              '\\n'\n",
      "              '\\n'\n",
      "              '\\n'\n",
      "              '\\n'\n",
      "              '\\n'\n",
      "              '\\n'\n",
      "              '\\n'\n",
      "              '\\n'\n",
      "              '\\n'\n",
      "              '\\n'\n",
      "              '\\n'\n",
      "              '  P.when(\"A\", \"jQuery\").execute(function(A, $) {\\n'\n",
      "              '    $(\"#selectQuantity [name=\\'quantity\\'], '\n",
      "              '#mobileQuantityDropDown\").live(\"change\", function (event) {\\n'\n",
      "              '      if (event.updatePromiseBadgeOnQuantityChange) {\\n'\n",
      "              '          return;\\n'\n",
      "              '      }\\n'\n",
      "              '\\n'\n",
      "              '      event.updatePromiseBadgeOnQuantityChange = 1;\\n'\n",
      "              '\\n'\n",
      "              '       \\n'\n",
      "              '          // \"#buybox\" is included in this list because if '\n",
      "              'there is no accordion row, then it is a single-offer layout\\n'\n",
      "              '          // possible id\\'s may include \"usedAccordionRow\", '\n",
      "              '\"newAccordionRow_1\", \"newAccordionRow_2\"\\n'\n",
      "              '          var accordionRow = '\n",
      "              '$(this).closest(\\'[id$=\"AccordionRow\"], #buybox, '\n",
      "              '[id^=\"newAccordionRow\"]\\');\\n'\n",
      "              '          \\n'\n",
      "              '\\n'\n",
      "              '      var quantity = $(this).val();\\n'\n",
      "              '      // This asin and merchantId will support use case in US '\n",
      "              'marketplace.\\n'\n",
      "              '      // DDM will be required here to support the feature in IN '\n",
      "              'marketplace\\n'\n",
      "              '      var asin = '\n",
      "              'accordionRow.find(\"#deliveryBlockSelectAsin\").val();\\n'\n",
      "              '      var merchantId = '\n",
      "              'accordionRow.find(\"#deliveryBlockSelectMerchant\").val();\\n'\n",
      "              '\\n'\n",
      "              '      if (!asin) {\\n'\n",
      "              '        asin = accordionRow.find(\"#ftSelectAsin\").val();\\n'\n",
      "              '      }\\n'\n",
      "              '      if (!merchantId) {\\n'\n",
      "              '        merchantId = '\n",
      "              'accordionRow.find(\"#ftSelectMerchant\").val();\\n'\n",
      "              '      }\\n'\n",
      "              '\\n'\n",
      "              '      if (!asin || !quantity) {\\n'\n",
      "              '        return;\\n'\n",
      "              '      }\\n'\n",
      "              '\\n'\n",
      "              '      var params = [];\\n'\n",
      "              '      params.push(\"asin=\" + asin);\\n'\n",
      "              '      params.push(\"quantity=\" + quantity);\\n'\n",
      "              '      params.push(\"exclusiveMerchantId=\" + merchantId);\\n'\n",
      "              '      params.push(\"merchantId=\" + merchantId);\\n'\n",
      "              '      params.push(\"clientId=retailwebsite\");\\n'\n",
      "              '      params.push(\"deviceType=web\");\\n'\n",
      "              '      params.push(\"showFeatures=priceBlockMs3Mir\");\\n'\n",
      "              '      params.push(\"ie=UTF8\");\\n'\n",
      "              '      '\n",
      "              'params.push(\"experienceId=priceBadgingQuantityRefreshAjaxExperience\");\\n'\n",
      "              '\\n'\n",
      "              '      $.ajax({\\n'\n",
      "              '        type: \"GET\",\\n'\n",
      "              '        url: \"/gp/product/ajax?\",\\n'\n",
      "              '        contentType: '\n",
      "              \"'application/x-www-form-urlencoded;charset=utf-8',\\n\"\n",
      "              \"        data: params.join('&'),\\n\"\n",
      "              '        accordionRow: accordionRow,\\n'\n",
      "              '        dataType: \"html\",\\n'\n",
      "              '        success: function (objResponse) {\\n'\n",
      "              '          if (objResponse != null && objResponse != \"\") {\\n'\n",
      "              '            '\n",
      "              'accordionRow.find(\"#priceBadging_feature_div\").replaceWith(objResponse);\\n'\n",
      "              '\\n'\n",
      "              '             \\n'\n",
      "              \"                // If it's a single buying option layout or the \"\n",
      "              'new buy box quantity changed, update data outside the buy box\\n'\n",
      "              '                if ($(\"#buyBoxAccordion, '\n",
      "              '#buybox\").children().length === 1 || '\n",
      "              'accordionRow.attr(\"id\").match(/^newAccordionRow/)) {\\n'\n",
      "              '                \\n'\n",
      "              '              $(\"#price #priceblock_ourprice_row '\n",
      "              '#ourprice_shippingmessage '\n",
      "              '#priceBadging_feature_div\").replaceWith(objResponse);\\n'\n",
      "              '              $(\"#newOfferShippingMessage_feature_div '\n",
      "              '#ourPrice_availability '\n",
      "              '#priceBadging_feature_div\").replaceWith(objResponse);\\n'\n",
      "              '              $(\"#price #priceblock_saleprice_row '\n",
      "              '#saleprice_shippingmessage '\n",
      "              '#priceBadging_feature_div\").replaceWith(objResponse);\\n'\n",
      "              '              $(\"#price #priceblock_dealprice_row '\n",
      "              '#dealprice_shippingmessage '\n",
      "              '#priceBadging_feature_div\").replaceWith(objResponse);\\n'\n",
      "              '            }\\n'\n",
      "              '          }\\n'\n",
      "              '        }\\n'\n",
      "              '      });\\n'\n",
      "              '\\n'\n",
      "              '      return;\\n'\n",
      "              '    });\\n'\n",
      "              '  });',\n",
      " 'product-dimensions': '8\"D x 11\"W x 18\"H',\n",
      " 'special-feature': 'Manual',\n",
      " 'style': 'Blender',\n",
      " 'total': '$420.58',\n",
      " 'total_raw': '$420.58',\n",
      " 'voltage': '120',\n",
      " 'warranty-type': '90 days limited warranty',\n",
      " 'wattage': '1440 watts',\n",
      " 'you-save': None,\n",
      " 'you-save_raw': '$140.05$140.05   (32%)'}\n"
     ]
    }
   ],
   "source": [
    "dataset = extract_dataset(tables)\n",
    "pprint.pprint(dataset)"
   ]
  },
  {
   "cell_type": "code",
   "execution_count": null,
   "id": "bcc4499c",
   "metadata": {},
   "outputs": [],
   "source": []
  }
 ],
 "metadata": {
  "kernelspec": {
   "display_name": "Python 3 (ipykernel)",
   "language": "python",
   "name": "python3"
  },
  "language_info": {
   "codemirror_mode": {
    "name": "ipython",
    "version": 3
   },
   "file_extension": ".py",
   "mimetype": "text/x-python",
   "name": "python",
   "nbconvert_exporter": "python",
   "pygments_lexer": "ipython3",
   "version": "3.9.15"
  }
 },
 "nbformat": 4,
 "nbformat_minor": 5
}
